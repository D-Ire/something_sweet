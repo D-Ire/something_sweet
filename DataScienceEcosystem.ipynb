{
 "cells": [
  {
   "cell_type": "markdown",
   "id": "0761844c-837b-4cca-b671-020bd2b28ebb",
   "metadata": {},
   "source": [
    "#Data Science Tools and Ecosystem"
   ]
  },
  {
   "cell_type": "markdown",
   "id": "7c1e5d38-dbae-47d1-b144-af52d02e3c84",
   "metadata": {},
   "source": [
    "##Author\n",
    "Ejiwale David"
   ]
  },
  {
   "cell_type": "markdown",
   "id": "5d1a2d2f-dfa2-4fd1-8038-da5b03dda2a4",
   "metadata": {},
   "source": [
    "In this notebook, Data Science Tools and Ecosystem are summarized."
   ]
  },
  {
   "cell_type": "markdown",
   "id": "d8f8db21-e40d-487c-bb71-57e6cbb3c5fc",
   "metadata": {},
   "source": [
    "**Objectives:**\n",
    "- List commonly used libraries used by data scientists\n",
    "- List Open-Source Data Science Tools\n",
    "- Evaluate arithmetic expressions in Python\n",
    "- Create a cell with code to convert hours to minutes"
   ]
  },
  {
   "cell_type": "markdown",
   "id": "e0abf170-a4d0-4323-985f-a7ab417617c4",
   "metadata": {},
   "source": [
    "Some of the popular languages that Data Scientists use are:\n",
    "1. Python\n",
    "2. Julia\n",
    "3. R\n",
    "4. Java"
   ]
  },
  {
   "cell_type": "markdown",
   "id": "b527fd51-b4d6-4dd2-8ebf-6d69f92703ff",
   "metadata": {},
   "source": [
    "Some of the commonly used libraries used by Data Scientists include:\n",
    "1. NumPy\n",
    "2. Pandas\n",
    "3. PyTorch\n",
    "4. MatPlotLib\n",
    "5. SeaBorn\n",
    "6. TensorFlow\n",
    "7. SciPy\n",
    "8. ggplot2"
   ]
  },
  {
   "cell_type": "markdown",
   "id": "73b4df72-70f1-49c7-93a1-309d1fa4d479",
   "metadata": {},
   "source": [
    "|Data Science Tools|\n",
    "|:----------------:|\n",
    "|RStudio           |\n",
    "|Jupyter Notebook  |\n",
    "|Apache Hadoop     |\n",
    "|Git & Github      |"
   ]
  },
  {
   "cell_type": "markdown",
   "id": "4b10d206-247e-4bd5-8029-930eb9dfcb9c",
   "metadata": {},
   "source": [
    "###Below are a few examples of evaluating arithmetic expressions in Python.\n"
   ]
  },
  {
   "cell_type": "code",
   "execution_count": 1,
   "id": "f281bea7-fb19-41ff-9904-ed960d26f62e",
   "metadata": {},
   "outputs": [
    {
     "name": "stdout",
     "output_type": "stream",
     "text": [
      "17\n"
     ]
    }
   ],
   "source": [
    "#This is a simple arithmetic expression to multiply then add integers\n",
    "print((3*4)+5)"
   ]
  },
  {
   "cell_type": "code",
   "execution_count": 2,
   "id": "94ea3aab-e95b-49ba-bccf-d47707874839",
   "metadata": {},
   "outputs": [
    {
     "name": "stdout",
     "output_type": "stream",
     "text": [
      "The time amounts to 3 hours and 20 minutes\n"
     ]
    }
   ],
   "source": [
    "#This will convert 200 minutes to hours by diving by 60.\n",
    "minutes = 200\n",
    "hours = minutes // 60\n",
    "remainder = minutes - (60 * hours)\n",
    "\n",
    "print(f\"The time amounts to {hours} hours and {remainder} minutes\")"
   ]
  },
  {
   "cell_type": "code",
   "execution_count": null,
   "id": "f8265869-0d53-4ba9-a8b4-a8ce7122b286",
   "metadata": {},
   "outputs": [],
   "source": []
  }
 ],
 "metadata": {
  "kernelspec": {
   "display_name": "Python 3 (ipykernel)",
   "language": "python",
   "name": "python3"
  },
  "language_info": {
   "codemirror_mode": {
    "name": "ipython",
    "version": 3
   },
   "file_extension": ".py",
   "mimetype": "text/x-python",
   "name": "python",
   "nbconvert_exporter": "python",
   "pygments_lexer": "ipython3",
   "version": "3.9.18"
  }
 },
 "nbformat": 4,
 "nbformat_minor": 5
}
